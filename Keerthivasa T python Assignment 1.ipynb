{
 "cells": [
  {
   "cell_type": "markdown",
   "id": "7bf78759",
   "metadata": {},
   "source": [
    "# Write a Python program that accepts a word from the user and reverse it.\n",
    "\n",
    "\n"
   ]
  },
  {
   "cell_type": "code",
   "execution_count": 5,
   "id": "67af9a3f",
   "metadata": {},
   "outputs": [
    {
     "name": "stdout",
     "output_type": "stream",
     "text": [
      "adoydE\n"
     ]
    }
   ],
   "source": [
    "x='Edyoda'\n",
    "print(x[::-1])"
   ]
  },
  {
   "cell_type": "markdown",
   "id": "2eba3b4e",
   "metadata": {},
   "source": [
    "# Write a Python program to count the number of even and odd numbers from a series of numbers."
   ]
  },
  {
   "cell_type": "code",
   "execution_count": 16,
   "id": "3b324fc9",
   "metadata": {},
   "outputs": [
    {
     "name": "stdout",
     "output_type": "stream",
     "text": [
      "Number of even days 4\n",
      "Numeber of odd days 5\n"
     ]
    }
   ],
   "source": [
    "numbers=(1,2,3,4,5,6,7,8,9)\n",
    "number_of_odd_days=0\n",
    "number_of_even_days=0\n",
    "for days in numbers:\n",
    "    if days%2==0:\n",
    "        number_of_even_days+=1\n",
    "        \n",
    "    else:\n",
    "        number_of_odd_days+=1\n",
    "print('Number of even days',number_of_even_days)\n",
    "print('Numeber of odd days',number_of_odd_days)\n",
    "        \n",
    "   "
   ]
  },
  {
   "cell_type": "markdown",
   "id": "cf10c214",
   "metadata": {},
   "source": [
    "# Write a Python program to get the Fibonacci series between 0 to 50\n",
    "\n"
   ]
  },
  {
   "cell_type": "code",
   "execution_count": 30,
   "id": "674c9180",
   "metadata": {},
   "outputs": [
    {
     "name": "stdout",
     "output_type": "stream",
     "text": [
      "Enter the Range Number: 15\n",
      "1\n",
      "2\n",
      "3\n",
      "5\n",
      "8\n",
      "13\n",
      "21\n",
      "34\n",
      "55\n",
      "89\n",
      "144\n",
      "233\n",
      "377\n"
     ]
    }
   ],
   "source": [
    "num = int(input(\"Enter the Range Number: \"))\n",
    "first_num = 0\n",
    "second_num = 1\n",
    "for n in range(0, num):\n",
    "            if(n <= 1):\n",
    "                      next = n\n",
    "            else:\n",
    "                        next = first_num + second_num\n",
    "                        first_num=second_num\n",
    "                        second_num=next\n",
    "                        print(next)"
   ]
  },
  {
   "cell_type": "code",
   "execution_count": null,
   "id": "cc792cb5",
   "metadata": {},
   "outputs": [],
   "source": []
  }
 ],
 "metadata": {
  "kernelspec": {
   "display_name": "Python 3 (ipykernel)",
   "language": "python",
   "name": "python3"
  },
  "language_info": {
   "codemirror_mode": {
    "name": "ipython",
    "version": 3
   },
   "file_extension": ".py",
   "mimetype": "text/x-python",
   "name": "python",
   "nbconvert_exporter": "python",
   "pygments_lexer": "ipython3",
   "version": "3.9.6"
  }
 },
 "nbformat": 4,
 "nbformat_minor": 5
}
